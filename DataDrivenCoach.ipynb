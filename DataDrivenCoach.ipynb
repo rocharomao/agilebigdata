{
  "nbformat": 4,
  "nbformat_minor": 0,
  "metadata": {
    "colab": {
      "name": "DataDrivenCoach.ipynb",
      "provenance": [],
      "collapsed_sections": [],
      "authorship_tag": "ABX9TyNFeE1orSLD8Cu3voTsdzsI",
      "include_colab_link": true
    },
    "kernelspec": {
      "name": "python3",
      "display_name": "Python 3"
    }
  },
  "cells": [
    {
      "cell_type": "markdown",
      "metadata": {
        "id": "view-in-github",
        "colab_type": "text"
      },
      "source": [
        "<a href=\"https://colab.research.google.com/github/rocharomao/agilebigdata/blob/master/DataDrivenCoach.ipynb\" target=\"_parent\"><img src=\"https://colab.research.google.com/assets/colab-badge.svg\" alt=\"Open In Colab\"/></a>"
      ]
    },
    {
      "cell_type": "code",
      "metadata": {
        "id": "Xc-qtTFn041H",
        "colab_type": "code",
        "colab": {
          "base_uri": "https://localhost:8080/",
          "height": 34
        },
        "outputId": "4f19e79d-c2e2-4b5f-b1f5-0d3a7eae5b7b"
      },
      "source": [
        "#Formulário de interação\n",
        "#@title Data-Driven Agile Coach { form-width: \"100%\", display-mode: \"form\" }\n",
        "#Importação de bibliotecas\n",
        "import seaborn as sns\n",
        "from pandas import read_csv\n",
        "\n",
        "Arquivo = 'https://github.com/rocharomao/agilebigdata/raw/master/PredTiposTamInput.csv' #@param {type:\"string\"}\n",
        "\n",
        "#Importação de planilha com input\n",
        "name = Arquivo\n",
        "Tipo = \"Selecione o tipo de an\\xE1lise\" #@param [\"Selecione o tipo de análise\", \"Box-Plot\", \"Histrograma\", \"Scatterplot\", \"Scatterplot colorido\", \"Linha\"] {allow-input: true}\n",
        "\n",
        "#Importação do arquivo\n",
        "data = read_csv(name, delimiter=\";\", encoding=\"latin-1\")\n",
        "\n",
        "#Função para definição do grático Box-Plot\n",
        "def boxplot(data):\n",
        "  #Apresentação do gráfico Box-Plot\n",
        "  ax = sns.boxplot(x=\"Dias\", y=\"Type\", data=data)\n",
        "\n",
        "#Função para definição do grático Scatterplot\n",
        "def scatter(data):\n",
        "  #Apresentação do gráfico Scatterplot\n",
        "  data.plot('Dias', 'Type', kind='scatter')\n",
        "\n",
        "\n",
        "#Função para definição do grático Scatterplot colorido\n",
        "def scattercolor(data):\n",
        "  #Apresentação do gráfico Scatterplot colorido\n",
        "  ax = sns.catplot(x=\"Dias\", y=\"Type\", data=data)\n",
        "\n",
        "#Função para definição do grático Histograma\n",
        "def barplot(data):\n",
        "  #Apresentação do gráfico de barras\n",
        "  #data.plot(kind='bar')\n",
        "  ax = sns.barplot(x=\"Dias\", y=\"Type\", data=data)\n",
        "\n",
        "#Função para definição do grático de linha\n",
        "def lineplot(data):\n",
        "  #Apresentação do gráfico de linha\n",
        "  data.plot()\n",
        "\n",
        "#Classe de definição dos tipos\n",
        "class Analise:\n",
        "  box = \"Box-Plot\";\n",
        "  hist = \"Histrograma\";\n",
        "  sct = \"Scatterplot\";\n",
        "  lin = \"Linha\";\n",
        "  sctcolor = \"Scatterplot colorido\";\n",
        "\n",
        "# Recebe o tipo de análise\n",
        "tipo = Tipo;\n",
        "\n",
        "if tipo == Analise.box:\n",
        "  boxplot(data);\n",
        "elif tipo == Analise.hist:\n",
        "  barplot(data);\n",
        "elif tipo == Analise.sct:\n",
        "  scatter(data);\n",
        "elif tipo == Analise.sctcolor:\n",
        "  scattercolor(data);\n",
        "elif tipo == Analise.lin:\n",
        "  lineplot(data);\n",
        "else:\n",
        "  print(\"Selecione um tipo de análise!\");\n",
        "\n"
      ],
      "execution_count": 22,
      "outputs": [
        {
          "output_type": "stream",
          "text": [
            "Selecione um tipo de análise!\n"
          ],
          "name": "stdout"
        }
      ]
    }
  ]
}