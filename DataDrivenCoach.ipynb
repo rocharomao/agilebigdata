{
  "nbformat": 4,
  "nbformat_minor": 0,
  "metadata": {
    "colab": {
      "name": "DataDrivenCoach.ipynb",
      "provenance": [],
      "collapsed_sections": [],
      "authorship_tag": "ABX9TyO2wq1ZCDFHLAWPeTI+Wb9x",
      "include_colab_link": true
    },
    "kernelspec": {
      "name": "python3",
      "display_name": "Python 3"
    }
  },
  "cells": [
    {
      "cell_type": "markdown",
      "metadata": {
        "id": "view-in-github",
        "colab_type": "text"
      },
      "source": [
        "<a href=\"https://colab.research.google.com/github/rocharomao/agilebigdata/blob/master/DataDrivenCoach.ipynb\" target=\"_parent\"><img src=\"https://colab.research.google.com/assets/colab-badge.svg\" alt=\"Open In Colab\"/></a>"
      ]
    },
    {
      "cell_type": "code",
      "metadata": {
        "id": "Xc-qtTFn041H",
        "colab_type": "code",
        "colab": {
          "base_uri": "https://localhost:8080/",
          "height": 397
        },
        "outputId": "f6f4066f-c78f-4355-afd2-af17dbb80020"
      },
      "source": [
        "#Formulário de interação\n",
        "#@title Data-Driven Agile Coach { display-mode: \"code\" }\n",
        "#Importação de bibliotecas\n",
        "import seaborn as sns\n",
        "from pandas import read_csv\n",
        "\n",
        "Arquivo = 'https://github.com/rocharomao/agilebigdata/raw/master/PredTiposTamInput.csv' #@param {type:\"string\"}\n",
        "\n",
        "#Importação de planilha com input\n",
        "name = Arquivo\n",
        "Tipo = \"Previsibilidade\" #@param [\"Selecione o tipo de análise\", \"Box-Plot\", \"Histrograma\", \"Scatterplot\", \"Scatterplot colorido\", \"Linha\", \"Dispersão\", \"Previsibilidade\"] {allow-input: false}\n",
        "Certeza = 85  #@param {type: \"slider\", min: 0, max: 100}\n",
        "\n",
        "#Importação do arquivo\n",
        "data = read_csv(name, delimiter=\";\", encoding=\"latin-1\")\n",
        "\n",
        "#Função para definição do grático Box-Plot\n",
        "def boxplot(data):\n",
        "  #Apresentação do gráfico Box-Plot\n",
        "  ax = sns.boxplot(x=\"Dias\", y=\"Type\", data=data)\n",
        "\n",
        "#Função para definição do grático Scatterplot\n",
        "def scatter(data):\n",
        "  #Apresentação do gráfico Scatterplot\n",
        "  data.plot('Dias', 'Type', kind='scatter')\n",
        "\n",
        "\n",
        "#Função para definição do grático Scatterplot colorido\n",
        "def scattercolor(data):\n",
        "  #Apresentação do gráfico Scatterplot colorido\n",
        "  ax = sns.catplot(x=\"Dias\", y=\"Type\", data=data)\n",
        "\n",
        "#Função para definição do grático Histograma\n",
        "def barplot(data):\n",
        "  #Apresentação do gráfico de barras\n",
        "  #data.plot(kind='bar')\n",
        "  ax = sns.barplot(x=\"Dias\", y=\"Type\", data=data)\n",
        "\n",
        "#Função para definição do grático de linha\n",
        "def lineplot(data):\n",
        "  #Apresentação do gráfico de linha\n",
        "  data.plot()\n",
        "\n",
        "#Função para definição do gráfico com desvios padrão\n",
        "def dpplot(data):\n",
        "  #Medição de dispersão pelo desvio padrão\n",
        "  data.groupby(['Type']).std().plot(kind='bar')\n",
        "\n",
        "#Função para apresentar gráfico por quantil\n",
        "def dpplot(data, q=0.85):\n",
        "  #Apresentação da quantidade de dias por quantil\n",
        "  data.groupby(['Type']).quantile(q).plot(kind='bar')\n",
        "\n",
        "\n",
        "#Classe de definição dos tipos\n",
        "class Analise:\n",
        "  box = \"Box-Plot\";\n",
        "  hist = \"Histrograma\";\n",
        "  sct = \"Scatterplot\";\n",
        "  lin = \"Linha\";\n",
        "  sctcolor = \"Scatterplot colorido\";\n",
        "  std = \"Dispersão\";\n",
        "  prev = \"Previsibilidade\";\n",
        "\n",
        "# Recebe o tipo de análise\n",
        "tipo = Tipo;\n",
        "\n",
        "if tipo == Analise.box:\n",
        "  boxplot(data);\n",
        "elif tipo == Analise.hist:\n",
        "  barplot(data);\n",
        "elif tipo == Analise.sct:\n",
        "  scatter(data);\n",
        "elif tipo == Analise.sctcolor:\n",
        "  scattercolor(data);\n",
        "elif tipo == Analise.lin:\n",
        "  lineplot(data);\n",
        "elif tipo == Analise.std:\n",
        "  dpplot(data);\n",
        "elif tipo == Analise.prev:\n",
        "  dpplot(data, q=Certeza/100)\n",
        "else:\n",
        "  print(\"Selecione um tipo de análise!\");\n",
        "\n"
      ],
      "execution_count": 12,
      "outputs": [
        {
          "output_type": "display_data",
          "data": {
            "image/png": "[encoded data removed]",
            "text/plain": [
              "<Figure size 432x288 with 1 Axes>"
            ]
          },
          "metadata": {
            "tags": [],
            "needs_background": "light"
          }
        }
      ]
    },
    {
      "cell_type": "code",
      "metadata": {
        "id": "e9jZt36kIWQW",
        "colab_type": "code",
        "colab": {}
      },
      "source": [
        ""
      ],
      "execution_count": 0,
      "outputs": []
    }
  ]
}