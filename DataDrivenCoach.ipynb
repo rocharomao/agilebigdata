{
  "nbformat": 4,
  "nbformat_minor": 0,
  "metadata": {
    "colab": {
      "name": "DataDrivenCoach.ipynb",
      "provenance": [],
      "collapsed_sections": [],
      "authorship_tag": "ABX9TyOM9YKHZDMnxOWarfM77cEq",
      "include_colab_link": true
    },
    "kernelspec": {
      "name": "python3",
      "display_name": "Python 3"
    }
  },
  "cells": [
    {
      "cell_type": "markdown",
      "metadata": {
        "id": "view-in-github",
        "colab_type": "text"
      },
      "source": [
        "<a href=\"https://colab.research.google.com/github/rocharomao/agilebigdata/blob/master/DataDrivenCoach.ipynb\" target=\"_parent\"><img src=\"https://colab.research.google.com/assets/colab-badge.svg\" alt=\"Open In Colab\"/></a>"
      ]
    },
    {
      "cell_type": "code",
      "metadata": {
        "id": "Xc-qtTFn041H",
        "colab_type": "code",
        "colab": {}
      },
      "source": [
        "#Formulário de interação\n",
        "#@title Box-Plot por tipo de atividade { display-mode: \"form\" }\n",
        "#Importação de bibliotecas\n",
        "import seaborn as sns\n",
        "from pandas import read_csv\n",
        "\n",
        "Arquivo = 'https://github.com/rocharomao/agilebigdata/raw/master/PredTiposTamInput.csv' #@param {type:\"string\"}\n",
        "\n",
        "#Importação de planilha com input\n",
        "name = Arquivo\n",
        "Tipo = 'Selecione o tipo de análise' #@param [\"Box-Plot\", \"Histrograma\", \"Scatterplot\", \"Linha\"] {allow-input: true}\n",
        "\n",
        "#Importação do arquivo\n",
        "data = read_csv(name, delimiter=\";\", encoding=\"latin-1\")\n",
        "\n",
        "def boxplot(data):\n",
        "  #Apresentação do gráfico Box-Plot\n",
        "  ax = sns.boxplot(x=\"Dias\", y=\"Type\", data=data)\n",
        "\n",
        "#Classe de definição dos tipos\n",
        "class Analise:\n",
        "  box = \"Box-Plot\";\n",
        "  hist = \"Histrograma\";\n",
        "  sct = \"Scatterplot\";\n",
        "  lin = \"Linha\";\n",
        "\n",
        "# Mude a cor para testar\n",
        "tipo = Tipo;\n",
        "\n",
        "if tipo == Analise.box:\n",
        "  boxplot(data);\n",
        "elif tipo == Analise.hist:\n",
        "  boxplot(data);\n",
        "elif tipo == Analise.sct:\n",
        "  boxplot(data);\n",
        "elif tipo == Analise.lin:\n",
        "  boxplot(data);\n",
        "else:\n",
        "  print(\"Selecione um tipo de análise!\");\n",
        "\n"
      ],
      "execution_count": 0,
      "outputs": []
    }
  ]
}